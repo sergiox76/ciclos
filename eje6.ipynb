{
  "nbformat": 4,
  "nbformat_minor": 0,
  "metadata": {
    "colab": {
      "provenance": [],
      "authorship_tag": "ABX9TyMTgv+piKBAHOwioBzhUxyQ",
      "include_colab_link": true
    },
    "kernelspec": {
      "name": "python3",
      "display_name": "Python 3"
    },
    "language_info": {
      "name": "python"
    }
  },
  "cells": [
    {
      "cell_type": "markdown",
      "metadata": {
        "id": "view-in-github",
        "colab_type": "text"
      },
      "source": [
        "<a href=\"https://colab.research.google.com/github/sergiox76/ciclos/blob/main/eje6.ipynb\" target=\"_parent\"><img src=\"https://colab.research.google.com/assets/colab-badge.svg\" alt=\"Open In Colab\"/></a>"
      ]
    },
    {
      "cell_type": "code",
      "execution_count": null,
      "metadata": {
        "id": "cgh6NXXmCv5l"
      },
      "outputs": [],
      "source": [
        "#Importar librarias para usar el pi \n",
        "\n",
        "import numpy as np\n",
        "\n",
        "#Definir variables\n",
        "\n",
        "radio_en_metros=0.3\n",
        "altura=5\n",
        "\n",
        "#Primero se debe convertir el radio en dm para tener las mismas unidades\n",
        "\n",
        "radio_en_dm=radio_en_metros*10\n",
        "\n",
        "#Calculo del volumen\n",
        "\n",
        "volumen= (np.pi *altura*(radio_en_dm**2))/3\n",
        "\n",
        "#SALIDAS\n",
        "\n",
        "print(\"El volumen del cono es: \",volumen)"
      ]
    }
  ]
}