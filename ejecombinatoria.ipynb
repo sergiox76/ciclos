{
  "nbformat": 4,
  "nbformat_minor": 0,
  "metadata": {
    "colab": {
      "provenance": [],
      "authorship_tag": "ABX9TyOB9uAKvnbEgyHIza9FCFXD",
      "include_colab_link": true
    },
    "kernelspec": {
      "name": "python3",
      "display_name": "Python 3"
    },
    "language_info": {
      "name": "python"
    }
  },
  "cells": [
    {
      "cell_type": "markdown",
      "metadata": {
        "id": "view-in-github",
        "colab_type": "text"
      },
      "source": [
        "<a href=\"https://colab.research.google.com/github/sergiox76/ciclos/blob/main/ejecombinatoria.ipynb\" target=\"_parent\"><img src=\"https://colab.research.google.com/assets/colab-badge.svg\" alt=\"Open In Colab\"/></a>"
      ]
    },
    {
      "cell_type": "code",
      "execution_count": null,
      "metadata": {
        "id": "f_XVQgbJGtKr"
      },
      "outputs": [],
      "source": [
        "facM=1\n",
        "facN=1\n",
        "facMN=1\n",
        "\n",
        "n=int(input(\"Ingrese el numero N: \"))\n",
        "m=int(input(\"Ingrese el numero M: \"))\n",
        "\n",
        "if (m>=n):\n",
        "#FACTORIAL DE M\n",
        "  for i in range(1,m+1):\n",
        "    facM=facM*i\n",
        "    \n",
        "\n",
        "#FACTORIAL DE N\n",
        "  for i in range(1,n+1):\n",
        "      facN=facN*i\n",
        "      \n",
        "\n",
        "#Factorial M-N\n",
        "\n",
        "  for i in range(1,(m-n+1)):\n",
        "      facMN=facMN*i\n",
        "      \n",
        "\n",
        "\n",
        "#C A L C U L A R    C O M B I N A T O R I A\n",
        "\n",
        "  com= facM/(facN*facMN)\n",
        "  print(\"La combinatoria de M-N:  \", com)\n",
        "\n",
        "\n",
        "else:\n",
        "  print(\"Error- M no es mayor que N\")\n"
      ]
    }
  ]
}