{
  "nbformat": 4,
  "nbformat_minor": 0,
  "metadata": {
    "colab": {
      "provenance": [],
      "authorship_tag": "ABX9TyO/DJLePQas/LT9J5rIMZJ6",
      "include_colab_link": true
    },
    "kernelspec": {
      "name": "python3",
      "display_name": "Python 3"
    },
    "language_info": {
      "name": "python"
    }
  },
  "cells": [
    {
      "cell_type": "markdown",
      "metadata": {
        "id": "view-in-github",
        "colab_type": "text"
      },
      "source": [
        "<a href=\"https://colab.research.google.com/github/sergiox76/ciclos/blob/main/Tprogram.ipynb\" target=\"_parent\"><img src=\"https://colab.research.google.com/assets/colab-badge.svg\" alt=\"Open In Colab\"/></a>"
      ]
    },
    {
      "cell_type": "code",
      "execution_count": null,
      "metadata": {
        "colab": {
          "base_uri": "https://localhost:8080/"
        },
        "id": "6o6uR83aHfN5",
        "outputId": "e7f047c0-91bc-4f2c-ec96-bf5e1ae72786"
      },
      "outputs": [
        {
          "output_type": "stream",
          "name": "stdout",
          "text": [
            "Ingrese cantidad de empleados:  2\n",
            "Ingrese el nombre del empleado:   j\n",
            "Indique su genero (hombre o mujerhombre\n",
            "Ingrese el salario basico por hora:   13\n",
            "Ingrese las horas trabajadas durante la semana:   45\n",
            "El salario semanal con recargo es 650.0\n",
            "El total de impuesto es 0\n",
            "El salario neto semanal es de:  650.0\n",
            "Ingrese el nombre del empleado:   m\n",
            "Indique su genero (hombre o mujermujer\n",
            "Ingrese el salario basico por hora:   13\n",
            "Ingrese las horas trabajadas durante la semana:   67\n",
            "El salario semanal con recargo es 1079.0\n",
            "El total de impuesto es 0\n",
            "El salario neto semanal es de:  1079.0\n",
            "Los impuestos a pagar son:   0\n",
            "El valor total de la nomina:   1729.0\n"
          ]
        }
      ],
      "source": [
        "#Definir variables\n",
        "\n",
        "acuSalario=0\n",
        "acuImp=0\n",
        "\n",
        "cant_emp=int (input(\"Ingrese cantidad de empleados:  \"))\n",
        "\n",
        "for i in range (cant_emp):\n",
        "  Nombre= input(\"Ingrese el nombre del empleado:   \")\n",
        "  Genero= input(\"Indique su genero (hombre o mujer\")\n",
        "  Tarifa= float (input(\"Ingrese el salario basico por hora:   \"))\n",
        "  Horas= int (input(\"Ingrese las horas trabajadas durante la semana:   \"))\n",
        "\n",
        "  #Verificar si horas trabajadas es <= 35 y poner condicionales\n",
        "\n",
        "  if Horas<=35:\n",
        "    Salario=Horas*Tarifa\n",
        "    print(\"El salario semanal  es\",Salario)\n",
        "  else:\n",
        "    Salario= 35*Tarifa+(Horas - 35) *Tarifa*1.5\n",
        "    print(\"El salario semanal con recargo es\",Salario)\n",
        "\n",
        "\n",
        "  #Calculo de impuesto \n",
        "\n",
        "  if Salario<=2000:\n",
        "    Impuestos=0\n",
        "    print(\"El total de impuesto es\",Impuestos)\n",
        "  elif Salario<=2200:\n",
        "    Impuestos= (Salario-2000)*0.20\n",
        "    print(\"El total de impuesto es\",Impuestos)\n",
        "  elif Salario > 2220:\n",
        "    Impuestos=(Salario-2220)*0.30 + (220*0.20)\n",
        "    print(\"El total de impuesto es\",Impuestos)\n",
        "    acuImp=acuImp+Impuestos\n",
        "    \n",
        "  #Calculo del salario neto\n",
        "\n",
        "  Salario_neto= Salario-Impuestos\n",
        "  print(\"El salario neto semanal es de: \",Salario_neto)\n",
        "  acuSalario=acuSalario+Salario_neto\n",
        "\n",
        " #Fin del ciclo\n",
        "print(\"Los impuestos a pagar son:  \",acuImp)\n",
        "print(\"El valor total de la nomina:  \",acuSalario)\n",
        "#acumulador de impuesto= impuestos+acumulador de impuestos\n",
        "#Acumulador a pagar=acumulador neto a pagar+salario neto"
      ]
    },
    {
      "cell_type": "code",
      "source": [
        "import numpy as np\n",
        "\n",
        "#Identificar variables\n",
        "\n",
        "a=float(input(\"Ingrese el valor de un lado\"))\n",
        "b=float(input(\"Ingrese el valor de un lado\"))\n",
        "c=float(input(\"Ingrese el valor de un lado\"))\n",
        "\n",
        "#Determinar el perimetro\n",
        "\n",
        "p=(a+b+c)/2\n",
        "\n",
        "if (p>a)and (p>b)and(p>c):\n",
        "  Area=np.sqrt(p*(p-a)*(p-b)*(p-c))\n",
        "  print(\"El area de un triangulo es:   \",Area)\n",
        "else:\n",
        "  print(\"No es un triangulo\")"
      ],
      "metadata": {
        "colab": {
          "base_uri": "https://localhost:8080/"
        },
        "id": "z9CJPmlzHlZ7",
        "outputId": "34eb95a0-4cc6-444e-9852-88026b51a4da"
      },
      "execution_count": null,
      "outputs": [
        {
          "output_type": "stream",
          "name": "stdout",
          "text": [
            "Ingrese el valor de un lado4\n",
            "Ingrese el valor de un lado5\n",
            "Ingrese el valor de un lado4\n",
            "El area de un triangulo es:    7.806247497997997\n"
          ]
        }
      ]
    },
    {
      "cell_type": "code",
      "source": [
        "a=float(input(\"Digite el valor del angulo:  \"))\n",
        "\n",
        "if (a<90):\n",
        "  print(\"Es un angulo agudo\")\n",
        "elif (a==90):\n",
        "  print(\"Es un angulo recto\")\n",
        "elif (a>90):\n",
        "  print(\"Es un angulo obstuso\")"
      ],
      "metadata": {
        "colab": {
          "base_uri": "https://localhost:8080/"
        },
        "id": "KN2YPy7jHnkz",
        "outputId": "8c20f25a-7ff5-47d8-ea80-2393d571ebdd"
      },
      "execution_count": null,
      "outputs": [
        {
          "output_type": "stream",
          "name": "stdout",
          "text": [
            "Digite el valor del angulo:  60\n",
            "Es un angulo agudo\n"
          ]
        }
      ]
    },
    {
      "cell_type": "code",
      "source": [
        "Dia=int(input(\"Ingrese un numero del 1 al 7:   \"))\n",
        "\n",
        "#Ya que el metodo switch no esta disponible para python lo realizaremos por if\n",
        "\n",
        "if Dia==1:\n",
        "  print(\"Lunes\")\n",
        "elif Dia==2:\n",
        "  print(\"Martes\")\n",
        "elif Dia==3:\n",
        "  print(\"Miercoles\")\n",
        "elif Dia==4:\n",
        "  print(\"Jueves\")\n",
        "elif Dia==5:\n",
        "   print(\"Viernes\")\n",
        "elif Dia==6:\n",
        "  print(\"Sabado\")\n",
        "elif Dia==7:\n",
        "  print(\"Domingo\")\n",
        "\n",
        "else:\n",
        "  print(\"ERROR\")"
      ],
      "metadata": {
        "colab": {
          "base_uri": "https://localhost:8080/"
        },
        "id": "Wgg-Yl_BHpxL",
        "outputId": "f9181c1d-f2f5-477e-c133-208188968f4f"
      },
      "execution_count": null,
      "outputs": [
        {
          "output_type": "stream",
          "name": "stdout",
          "text": [
            "Ingrese un numero del 1 al 7:   5\n",
            "Viernes\n"
          ]
        }
      ]
    }
  ]
}