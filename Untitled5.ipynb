{
  "nbformat": 4,
  "nbformat_minor": 0,
  "metadata": {
    "colab": {
      "provenance": [],
      "authorship_tag": "ABX9TyNCsqwkq4IERMhZsHVKWcx2",
      "include_colab_link": true
    },
    "kernelspec": {
      "name": "python3",
      "display_name": "Python 3"
    },
    "language_info": {
      "name": "python"
    }
  },
  "cells": [
    {
      "cell_type": "markdown",
      "metadata": {
        "id": "view-in-github",
        "colab_type": "text"
      },
      "source": [
        "<a href=\"https://colab.research.google.com/github/sergiox76/ciclos/blob/main/Untitled5.ipynb\" target=\"_parent\"><img src=\"https://colab.research.google.com/assets/colab-badge.svg\" alt=\"Open In Colab\"/></a>"
      ]
    },
    {
      "cell_type": "code",
      "execution_count": null,
      "metadata": {
        "id": "_xVJbN7-8Kia"
      },
      "outputs": [],
      "source": [
        "#Leer lanota de 35 estudiantes y calcular el promedio\n",
        "#Autor sergio nuñez grupo FP-dia 2022_2\n",
        "#version 1.0"
      ]
    },
    {
      "cell_type": "code",
      "source": [
        "#Declaracion de variables\n",
        "const_int_cant_estu = 3\n",
        "const_int_cant_mat = 3\n",
        "var_ent_string_nombre = \"\"\n",
        "var_ent_string_materianombre=\"\"\n",
        "var_ent_float_notaDef = 0.0\n",
        "var_pro_float_sumaDefgru = 0.0\n",
        "var_prosal_float_promGru = 0.0\n",
        "var_pro_int_conCic = 0\n",
        "var_pro_int_conCicmat= 3\n",
        "var_proSal_float_notamayor = 0.0\n",
        "var_proSal_int_cantApro = 0\n",
        "var_proSal_string_estMayNot = \"\""
      ],
      "metadata": {
        "id": "ymf2xcwO8Yg1"
      },
      "execution_count": null,
      "outputs": []
    },
    {
      "cell_type": "code",
      "source": [
        "#Lectura de entradas de datos\n",
        "#Ciclo que repite por numero de asignatura\n",
        "for const_int_cant_mat in range(var_pro_int_conCicmat):\n",
        "  var_ent_string_materianombre=input(\"Digite materia: \")\n",
        "  #Inicio ciclo de estudiante\n",
        "  for var_pro_int_conCic in range(const_int_cant_estu):\n",
        "\n",
        "    #Nombres de estudiantes\n",
        "    var_ent_string_nombre = input(\"Ingrese el nombre del estudiante: \")\n",
        "\n",
        "    #Notas de estudiantes\n",
        "    var_ent_float_notaDef = float(input(\"Nota del estudiante: \"))\n",
        "\n",
        "    #definir el concepto de la nota 6 o mas aprueba y menos reprueba\n",
        "    if(var_ent_float_notaDef>=6.0):\n",
        "      print(\"Usted aprobo la asignatura\")\n",
        "    else:\n",
        "      print(\"Usted reprobo la asignatura\")\n",
        "    #Fin del concepto\n",
        "\n",
        "    #Nota mayor\n",
        "    if(var_ent_float_notaDef > var_proSal_float_notamayor):\n",
        "      var_proSal_float_notamayor = var_ent_float_notaDef\n",
        "      var_proSal_string_estMayNot = var_ent_string_nombre\n",
        "\n",
        "\n",
        "    #caluclar cuantos estudiantes ganaron la asignatura\n",
        "    if(var_ent_float_notaDef>6.0):\n",
        "      var_proSal_int_cantApro = var_proSal_int_cantApro+1\n",
        "\n",
        "    #Acumular la suma de notas\n",
        "    var_pro_float_sumaDefgru = var_pro_float_sumaDefgru + var_ent_float_notaDef\n",
        "    #Punto de control para ver la acumulacion\n",
        "    #print(\" llevo acumulado\",var_pro_float_sumaDefgru)\n",
        "\n",
        "  #fin del ciclo\n",
        "\n",
        "  #Calculo ce la nota mayor\n",
        "  print(\"La nota mas alta\", var_proSal_float_notamayor, \"Pertenece a :\", var_proSal_string_estMayNot )\n",
        "\n",
        "  #Calcular el promedio\n",
        "  var_prosal_float_promGru = var_pro_float_sumaDefgru / const_int_cant_estu\n",
        "  print(\"La nota promedio del grupo de \" +var_ent_string_materianombre + \" es :\" + str(var_prosal_float_promGru ))\n",
        "\n",
        "  #Cauntos ganaron la materia\n",
        "  print(\"Llevamos aprobados: \",var_proSal_int_cantApro) \n",
        "  #fincicloasignatura"
      ],
      "metadata": {
        "colab": {
          "base_uri": "https://localhost:8080/"
        },
        "id": "sTx0Jsrt8bP1",
        "outputId": "e37932b4-8963-43df-b7bb-c01b52811420"
      },
      "execution_count": null,
      "outputs": [
        {
          "output_type": "stream",
          "name": "stdout",
          "text": [
            "Digite materia: fp\n",
            "Ingrese el nombre del estudiante: sergio\n",
            "Nota del estudiante: 30\n",
            "Usted aprobo la asignatura\n",
            "Ingrese el nombre del estudiante: x\n",
            "Nota del estudiante: 10\n",
            "Usted aprobo la asignatura\n"
          ]
        }
      ]
    }
  ]
}